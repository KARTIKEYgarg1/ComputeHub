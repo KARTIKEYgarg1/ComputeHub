{
 "cells": [
  {
   "cell_type": "code",
   "execution_count": 9,
   "id": "bf44cc78",
   "metadata": {},
   "outputs": [
    {
     "name": "stdout",
     "output_type": "stream",
     "text": [
      "CSV file with 300 entries generated successfully.\n"
     ]
    }
   ],
   "source": [
    "import csv\n",
    "import random\n",
    "\n",
    "# List of sample locations\n",
    "locations = ['New York', 'Los Angeles', 'Chicago', 'Houston', 'Phoenix',\n",
    "             'Philadelphia', 'San Antonio', 'San Diego']\n",
    "\n",
    "data = []\n",
    "for _ in range(1000):\n",
    "    location = random.choice(locations)\n",
    "    square_feet = random.randint(1500, 3000)\n",
    "    bedrooms = random.randint(2, 5)\n",
    "    bathrooms = random.randint(1, 4)\n",
    "    price = random.randint(300000, 800000)\n",
    "    data.append([location, square_feet, bedrooms, bathrooms, price])\n",
    "\n",
    "with open('home_prices.csv', 'w', newline='') as csvfile:\n",
    "    fieldnames = ['Location', 'SquareFeet', 'Bedrooms', 'Bathrooms', 'Price']\n",
    "    writer = csv.writer(csvfile)\n",
    "    \n",
    "    writer.writerow(fieldnames)\n",
    "    for entry in data:\n",
    "        writer.writerow(entry)\n",
    "\n",
    "print(\"CSV file with 300 entries generated successfully.\")\n"
   ]
  },
  {
   "cell_type": "code",
   "execution_count": 10,
   "id": "1f889bae",
   "metadata": {},
   "outputs": [
    {
     "name": "stdout",
     "output_type": "stream",
     "text": [
      "       Location  SquareFeet  Bedrooms  Bathrooms   Price\n",
      "0   San Antonio        2833         4          3  419985\n",
      "1       Houston        2743         3          1  361457\n",
      "2     San Diego        2649         5          4  357192\n",
      "3  Philadelphia        2867         3          2  418557\n",
      "4       Phoenix        2596         2          4  446980\n"
     ]
    }
   ],
   "source": [
    "import pandas as pd\n",
    "df = pd.read_csv('home_prices.csv')\n",
    "print(df.head())"
   ]
  },
  {
   "cell_type": "code",
   "execution_count": 11,
   "id": "add73dfe",
   "metadata": {},
   "outputs": [
    {
     "data": {
      "text/plain": [
       "Location\n",
       "Los Angeles     138\n",
       "San Antonio     132\n",
       "San Diego       132\n",
       "Phoenix         130\n",
       "Chicago         127\n",
       "Philadelphia    117\n",
       "New York        117\n",
       "Houston         107\n",
       "Name: count, dtype: int64"
      ]
     },
     "execution_count": 11,
     "metadata": {},
     "output_type": "execute_result"
    }
   ],
   "source": [
    "df[\"Location\"].value_counts()"
   ]
  },
  {
   "cell_type": "code",
   "execution_count": 12,
   "id": "71a5e81e",
   "metadata": {},
   "outputs": [
    {
     "data": {
      "text/html": [
       "<div>\n",
       "<style scoped>\n",
       "    .dataframe tbody tr th:only-of-type {\n",
       "        vertical-align: middle;\n",
       "    }\n",
       "\n",
       "    .dataframe tbody tr th {\n",
       "        vertical-align: top;\n",
       "    }\n",
       "\n",
       "    .dataframe thead th {\n",
       "        text-align: right;\n",
       "    }\n",
       "</style>\n",
       "<table border=\"1\" class=\"dataframe\">\n",
       "  <thead>\n",
       "    <tr style=\"text-align: right;\">\n",
       "      <th></th>\n",
       "      <th>SquareFeet</th>\n",
       "      <th>Bedrooms</th>\n",
       "      <th>Bathrooms</th>\n",
       "      <th>Price</th>\n",
       "    </tr>\n",
       "  </thead>\n",
       "  <tbody>\n",
       "    <tr>\n",
       "      <th>count</th>\n",
       "      <td>1000.000000</td>\n",
       "      <td>1000.000000</td>\n",
       "      <td>1000.000000</td>\n",
       "      <td>1000.000000</td>\n",
       "    </tr>\n",
       "    <tr>\n",
       "      <th>mean</th>\n",
       "      <td>2261.815000</td>\n",
       "      <td>3.491000</td>\n",
       "      <td>2.527000</td>\n",
       "      <td>551102.454000</td>\n",
       "    </tr>\n",
       "    <tr>\n",
       "      <th>std</th>\n",
       "      <td>431.435113</td>\n",
       "      <td>1.112275</td>\n",
       "      <td>1.122734</td>\n",
       "      <td>143562.470364</td>\n",
       "    </tr>\n",
       "    <tr>\n",
       "      <th>min</th>\n",
       "      <td>1500.000000</td>\n",
       "      <td>2.000000</td>\n",
       "      <td>1.000000</td>\n",
       "      <td>300017.000000</td>\n",
       "    </tr>\n",
       "    <tr>\n",
       "      <th>25%</th>\n",
       "      <td>1900.750000</td>\n",
       "      <td>3.000000</td>\n",
       "      <td>2.000000</td>\n",
       "      <td>429196.750000</td>\n",
       "    </tr>\n",
       "    <tr>\n",
       "      <th>50%</th>\n",
       "      <td>2268.000000</td>\n",
       "      <td>3.000000</td>\n",
       "      <td>3.000000</td>\n",
       "      <td>552206.000000</td>\n",
       "    </tr>\n",
       "    <tr>\n",
       "      <th>75%</th>\n",
       "      <td>2630.000000</td>\n",
       "      <td>4.000000</td>\n",
       "      <td>4.000000</td>\n",
       "      <td>672834.250000</td>\n",
       "    </tr>\n",
       "    <tr>\n",
       "      <th>max</th>\n",
       "      <td>3000.000000</td>\n",
       "      <td>5.000000</td>\n",
       "      <td>4.000000</td>\n",
       "      <td>799664.000000</td>\n",
       "    </tr>\n",
       "  </tbody>\n",
       "</table>\n",
       "</div>"
      ],
      "text/plain": [
       "        SquareFeet     Bedrooms    Bathrooms          Price\n",
       "count  1000.000000  1000.000000  1000.000000    1000.000000\n",
       "mean   2261.815000     3.491000     2.527000  551102.454000\n",
       "std     431.435113     1.112275     1.122734  143562.470364\n",
       "min    1500.000000     2.000000     1.000000  300017.000000\n",
       "25%    1900.750000     3.000000     2.000000  429196.750000\n",
       "50%    2268.000000     3.000000     3.000000  552206.000000\n",
       "75%    2630.000000     4.000000     4.000000  672834.250000\n",
       "max    3000.000000     5.000000     4.000000  799664.000000"
      ]
     },
     "execution_count": 12,
     "metadata": {},
     "output_type": "execute_result"
    }
   ],
   "source": [
    "df.describe()"
   ]
  },
  {
   "cell_type": "code",
   "execution_count": 15,
   "id": "b660f1e0",
   "metadata": {},
   "outputs": [
    {
     "data": {
      "image/png": "[encoded data removed]",
      "text/plain": [
       "<Figure size 720x432 with 1 Axes>"
      ]
     },
     "metadata": {
      "needs_background": "light"
     },
     "output_type": "display_data"
    }
   ],
   "source": [
    "import pandas as pd\n",
    "import matplotlib.pyplot as plt\n",
    "\n",
    "# Assuming 'df' is your DataFrame containing 'Location' and 'Price' columns\n",
    "# df = pd.read_csv('your_file.csv')\n",
    "\n",
    "# Calculate mean price for each location\n",
    "mean_prices = df.groupby('Location')['Price'].mean().reset_index()\n",
    "\n",
    "# Plotting a bar graph for Mean Price by Location with a logarithmic y-axis scale\n",
    "plt.figure(figsize=(10, 6))  # Set the size of the plot\n",
    "plt.bar(mean_prices['Location'], mean_prices['Price'], color='skyblue')  # Creating a bar chart\n",
    "plt.xlabel('Location')  # X-axis label\n",
    "plt.ylabel('Mean Price (Log Scale)')  # Y-axis label\n",
    "plt.title('Mean Price by Location')  # Plot title\n",
    "plt.xticks(rotation=45, ha='right')  # Rotate x-axis labels for better visibility\n",
    "plt.yscale('log')  # Set y-axis to logarithmic scale\n",
    "plt.tight_layout()  # Adjust layout to prevent cutting off labels\n",
    "plt.show()  # Display the plot\n"
   ]
  },
  {
   "cell_type": "code",
   "execution_count": null,
   "id": "1c950001",
   "metadata": {},
   "outputs": [],
   "source": []
  }
 ],
 "metadata": {
  "kernelspec": {
   "display_name": "Python 3 (ipykernel)",
   "language": "python",
   "name": "python3"
  },
  "language_info": {
   "codemirror_mode": {
    "name": "ipython",
    "version": 3
   },
   "file_extension": ".py",
   "mimetype": "text/x-python",
   "name": "python",
   "nbconvert_exporter": "python",
   "pygments_lexer": "ipython3",
   "version": "3.10.6"
  }
 },
 "nbformat": 4,
 "nbformat_minor": 5
}
